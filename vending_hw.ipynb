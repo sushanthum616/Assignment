{
  "nbformat": 4,
  "nbformat_minor": 0,
  "metadata": {
    "colab": {
      "provenance": [],
      "authorship_tag": "ABX9TyM32KhYf7irTAeylk2gfjAU",
      "include_colab_link": true
    },
    "kernelspec": {
      "name": "python3",
      "display_name": "Python 3"
    },
    "language_info": {
      "name": "python"
    }
  },
  "cells": [
    {
      "cell_type": "markdown",
      "metadata": {
        "id": "view-in-github",
        "colab_type": "text"
      },
      "source": [
        "<a href=\"https://colab.research.google.com/github/sushanthum616/Assignment/blob/main/vending_hw.ipynb\" target=\"_parent\"><img src=\"https://colab.research.google.com/assets/colab-badge.svg\" alt=\"Open In Colab\"/></a>"
      ]
    },
    {
      "cell_type": "code",
      "execution_count": 6,
      "metadata": {
        "colab": {
          "base_uri": "https://localhost:8080/"
        },
        "id": "bKWOljmNuSZw",
        "outputId": "ea21c62a-9311-4c74-c88a-4945646dcf5f"
      },
      "outputs": [
        {
          "output_type": "stream",
          "name": "stdout",
          "text": [
            "Machine is out of stock.\n",
            "Current crab stock: 2\n",
            "You must deposit $0.10 more.\n",
            "Current balance: $0.07\n",
            "You must deposit $0.03 more.\n",
            "Current balance: $0.12\n",
            "Here is your crab and $0.02 change.\n",
            "Current balance: $0.10\n",
            "Here is your crab.\n"
          ]
        }
      ],
      "source": [
        "class VendingMachine:\n",
        "    def __init__(self, product, price):\n",
        "        \n",
        "        self.product = product\n",
        "        self.price = price\n",
        "        self.balance = 0\n",
        "        self.stock = 0\n",
        "    \n",
        "    def restock(self, quantity):\n",
        "       \n",
        "        self.stock += quantity\n",
        "        return f'Current {self.product} stock: {self.stock}'\n",
        "    \n",
        "    def deposit(self, value):\n",
        "       \n",
        "        if self.stock > 0:\n",
        "            self.balance += value\n",
        "            return f'Current balance: ${self.balance/100:.2f}'\n",
        "        else:\n",
        "            return f'Machine is out of stock. Here is your ${value/100:.2f}.'\n",
        "    \n",
        "    def vend(self):\n",
        "       \n",
        "        if self.stock == 0:\n",
        "            return 'Machine is out of stock.'\n",
        "        elif self.balance < self.price:\n",
        "            return f'You must deposit ${(self.price - self.balance)/100:.2f} more.'\n",
        "        elif self.balance == self.price:\n",
        "            self.stock -= 1\n",
        "            self.balance = 0\n",
        "            return f'Here is your {self.product}.'\n",
        "        else:\n",
        "            change = self.balance - self.price\n",
        "            self.stock -= 1\n",
        "            self.balance = 0\n",
        "            return f'Here is your {self.product} and ${change/100:.2f} change.'\n",
        "\n",
        "\n",
        "v = VendingMachine('crab', 10)\n",
        "print(v.vend())\n",
        "print(v.restock(2))\n",
        "print(v.vend())\n",
        "print(v.deposit(7))\n",
        "print(v.vend())\n",
        "print(v.deposit(5))\n",
        "print(v.vend())\n",
        "print(v.deposit(10))\n",
        "print(v.vend())\n"
      ]
    }
  ]
}