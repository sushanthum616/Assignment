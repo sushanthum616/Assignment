{
  "nbformat": 4,
  "nbformat_minor": 0,
  "metadata": {
    "colab": {
      "provenance": [],
      "authorship_tag": "ABX9TyPABpbUqyVKX6xdRHSpInix",
      "include_colab_link": true
    },
    "kernelspec": {
      "name": "python3",
      "display_name": "Python 3"
    },
    "language_info": {
      "name": "python"
    }
  },
  "cells": [
    {
      "cell_type": "markdown",
      "metadata": {
        "id": "view-in-github",
        "colab_type": "text"
      },
      "source": [
        "<a href=\"https://colab.research.google.com/github/sushanthum616/Assignment/blob/main/Copy_of_Copy_of_week_3_assi_.ipynb\" target=\"_parent\"><img src=\"https://colab.research.google.com/assets/colab-badge.svg\" alt=\"Open In Colab\"/></a>"
      ]
    },
    {
      "cell_type": "code",
      "source": [
        "#ans no 2\n",
        "def diff(x, y, z):\n",
        "   if(x - y == z):\n",
        "    return True\n",
        "   elif(x - z == y):\n",
        "      return True\n",
        "   elif(y - z == x):\n",
        "    return True\n",
        "   elif(z - x == y):\n",
        "    return True\n",
        "\n",
        "   else:\n",
        "     return False\n",
        "     \n",
        "print(diff(10, 6, 3))\n",
        "print(diff(5, 3, 2))\n",
        "print(diff(2,3,5))\n",
        "print(diff(2,5,3))\n",
        "print(diff(-2,3,5))\n",
        "print(diff(-5,-3,-2))\n",
        "print(diff(-2,3,-5))\n",
        "print(diff(2,3,-5))\n",
        "print(diff(10,6,4))"
      ],
      "metadata": {
        "colab": {
          "base_uri": "https://localhost:8080/"
        },
        "id": "95gZsQloIgKH",
        "outputId": "de01ecde-5fec-492a-9dc1-ad7d43425c54"
      },
      "execution_count": null,
      "outputs": [
        {
          "output_type": "stream",
          "name": "stdout",
          "text": [
            "False\n",
            "True\n",
            "True\n",
            "True\n",
            "True\n",
            "True\n",
            "True\n",
            "False\n",
            "True\n"
          ]
        }
      ]
    },
    {
      "cell_type": "code",
      "execution_count": null,
      "metadata": {
        "colab": {
          "base_uri": "https://localhost:8080/"
        },
        "id": "zkBbVP3QA_2L",
        "outputId": "07617262-c9fb-4bea-eecb-e6d53892a5f2"
      },
      "outputs": [
        {
          "output_type": "stream",
          "name": "stdout",
          "text": [
            "False\n",
            "True\n",
            "False\n",
            "True\n",
            "True\n",
            "False\n"
          ]
        }
      ],
      "source": [
        "#ans no 1\n",
        "def is_equal(a, b, c):\n",
        "\n",
        "  if(b!=c and a!=c):\n",
        "    return(a==b)\n",
        "  elif(a!=b and a!=c):\n",
        "    return(b==c)\n",
        "  elif(a!=b and b!=c):\n",
        "    return a==c\n",
        "  else:\n",
        "   return False\n",
        "print(is_equal(1,2,3))\n",
        "print(is_equal(1,2,1))\n",
        "print(is_equal(1,1,1))\n",
        "print(is_equal(5,-1,-1))\n",
        "print(is_equal(0,0,-1))\n",
        "print(is_equal(0,0,0))\n"
      ]
    },
    {
      "cell_type": "code",
      "source": [
        "#ans no 3\n",
        "def is_factor(a, b):\n",
        "    if a%b==0 or b%a==0:\n",
        "     return True\n",
        "    else:\n",
        "     return False\n",
        "\n",
        "print(is_factor(3, 6))\n",
        "print(is_factor(4, 10))\n",
        "\n",
        "\n"
      ],
      "metadata": {
        "colab": {
          "base_uri": "https://localhost:8080/"
        },
        "id": "Ve2HMMt_Gr_-",
        "outputId": "c77a6d78-df79-4c06-f1bb-9b119aeaee98"
      },
      "execution_count": null,
      "outputs": [
        {
          "output_type": "stream",
          "name": "stdout",
          "text": [
            "True\n",
            "False\n"
          ]
        }
      ]
    },
    {
      "cell_type": "code",
      "source": [
        "#ans no 4\n",
        "def factor(x):\n",
        "  if x > 0:\n",
        "    for i in range(x, 0, -1):\n",
        "      if(x%i==0):\n",
        "        print(i)\n",
        "  else:\n",
        "    print(\"nothing\")\n",
        "\n",
        "factor(7)\n",
        "factor(12)\n"
      ],
      "metadata": {
        "colab": {
          "base_uri": "https://localhost:8080/"
        },
        "id": "tMEz07myTIIE",
        "outputId": "def7b1e0-893a-4180-d35e-2db9efccb010"
      },
      "execution_count": null,
      "outputs": [
        {
          "output_type": "stream",
          "name": "stdout",
          "text": [
            "1\n",
            "7\n",
            "1\n",
            "2\n",
            "3\n",
            "4\n",
            "6\n",
            "12\n"
          ]
        }
      ]
    },
    {
      "cell_type": "code",
      "source": [
        "# no.5\n",
        "def lrgst_fact(n):\n",
        "    for i in range(n - 1, 0, -1):\n",
        "        if n % i == 0:\n",
        "            return i\n",
        "\n",
        "lrgst_fact(80)\n"
      ],
      "metadata": {
        "id": "_jrZ_3szXpMM"
      },
      "execution_count": null,
      "outputs": []
    }
  ]
}